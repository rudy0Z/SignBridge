{
 "cells": [
  {
   "cell_type": "code",
   "execution_count": null,
   "metadata": {},
   "outputs": [
    {
     "ename": "",
     "evalue": "",
     "output_type": "error",
     "traceback": [
      "\u001b[1;31mRunning cells with 'c:\\Users\\rudraksh-singh\\AppData\\Local\\Microsoft\\WindowsApps\\python3.12.exe' requires the ipykernel package.\n",
      "\u001b[1;31mRun the following command to install 'ipykernel' into the Python environment. \n",
      "\u001b[1;31mCommand: 'c:/Users/rudraksh-singh/AppData/Local/Microsoft/WindowsApps/python3.12.exe -m pip install ipykernel -U --user --force-reinstall'"
     ]
    }
   ],
   "source": [
    "# Install PyTorch and torchvision. Note: You may need to select a specific version based on your CUDA version if you're using GPU acceleration.\n",
    "!pip install torch torchvision\n",
    "\n",
    "# Install moviepy for video processing.\n",
    "!pip install moviepy\n",
    "\n",
    "# It's also a good idea to update pip itself before installing packages to ensure compatibility and the latest features.\n",
    "!pip install --upgrade pip\n",
    "\n",
    "# If you have additional dependencies or other libraries you know you'll need, you can install them in a similar manner.\n",
    "# For example, to install numpy and matplotlib (commonly used libraries in data science and machine learning projects), you would use:\n",
    "!pip install numpy matplotlib\n",
    "\n",
    "# Remember to replace 'pip' with 'pip3' if you are using Python 3 and your system defaults to Python 2 when using 'pip'.\n"
   ]
  },
  {
   "cell_type": "code",
   "execution_count": null,
   "metadata": {},
   "outputs": [
    {
     "ename": "",
     "evalue": "",
     "output_type": "error",
     "traceback": [
      "\u001b[1;31mRunning cells with 'c:\\Users\\rudraksh-singh\\AppData\\Local\\Microsoft\\WindowsApps\\python3.12.exe' requires the ipykernel package.\n",
      "\u001b[1;31mRun the following command to install 'ipykernel' into the Python environment. \n",
      "\u001b[1;31mCommand: 'c:/Users/rudraksh-singh/AppData/Local/Microsoft/WindowsApps/python3.12.exe -m pip install ipykernel -U --user --force-reinstall'"
     ]
    }
   ],
   "source": [
    "c:/Users/rudraksh-singh/AppData/Local/Microsoft/WindowsApps/python3.12.exe -m pip install ipykernel -U --user --force-reinstall"
   ]
  }
 ],
 "metadata": {
  "kernelspec": {
   "display_name": "Python 3",
   "language": "python",
   "name": "python3"
  },
  "language_info": {
   "name": "python",
   "version": "3.12.2"
  }
 },
 "nbformat": 4,
 "nbformat_minor": 2
}
